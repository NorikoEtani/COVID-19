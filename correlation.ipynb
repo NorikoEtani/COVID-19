{
  "nbformat": 4,
  "nbformat_minor": 0,
  "metadata": {
    "kernelspec": {
      "language": "python",
      "display_name": "Python 3",
      "name": "python3"
    },
    "language_info": {
      "name": "python",
      "version": "3.7.10",
      "mimetype": "text/x-python",
      "codemirror_mode": {
        "name": "ipython",
        "version": 3
      },
      "pygments_lexer": "ipython3",
      "nbconvert_exporter": "python",
      "file_extension": ".py"
    },
    "colab": {
      "name": "correlation.ipynb",
      "provenance": [],
      "collapsed_sections": []
    },
    "accelerator": "GPU"
  },
  "cells": [
    {
      "cell_type": "markdown",
      "metadata": {
        "id": "U3GT7VLyETrf"
      },
      "source": [
        "created by Noriko Etani, June 12, 2021.\n",
        "\n",
        "**日本のCOVID-19感染における相関分析**\n",
        "\n",
        "日本の「新規感染者数」「新規死亡者数」「ワクチン2回目接種者数」における相関関係を分析します．分析結果は，「相関係数」を「heatmap」で可視化します．"
      ]
    },
    {
      "cell_type": "code",
      "metadata": {
        "id": "DTARn4rrUEki",
        "colab": {
          "base_uri": "https://localhost:8080/"
        },
        "outputId": "a625c7ed-da5f-4194-843c-fe2c8143a711"
      },
      "source": [
        "from google.colab import drive\n",
        "drive.mount('/content/drive')"
      ],
      "execution_count": 1,
      "outputs": [
        {
          "output_type": "stream",
          "text": [
            "Mounted at /content/drive\n"
          ],
          "name": "stdout"
        }
      ]
    },
    {
      "cell_type": "code",
      "metadata": {
        "execution": {
          "iopub.status.busy": "2021-05-24T21:26:58.604874Z",
          "iopub.execute_input": "2021-05-24T21:26:58.605268Z",
          "iopub.status.idle": "2021-05-24T21:26:59.721858Z",
          "shell.execute_reply.started": "2021-05-24T21:26:58.605184Z",
          "shell.execute_reply": "2021-05-24T21:26:59.720658Z"
        },
        "trusted": true,
        "id": "wX_xjoRmdL9t"
      },
      "source": [
        "#1\n",
        "import numpy as np\n",
        "import pandas as pd\n",
        "from pathlib import Path\n",
        "from tqdm import tqdm\n",
        "import matplotlib.pyplot as plt\n",
        "import seaborn as sns"
      ],
      "execution_count": 2,
      "outputs": []
    },
    {
      "cell_type": "markdown",
      "metadata": {
        "id": "NOewLTazttzg"
      },
      "source": [
        "**1. Correation Analysis**"
      ]
    },
    {
      "cell_type": "markdown",
      "metadata": {
        "id": "E_n27VG9dL9w"
      },
      "source": [
        "**Loading data**"
      ]
    },
    {
      "cell_type": "code",
      "metadata": {
        "id": "NUJNEf5ZFF8m"
      },
      "source": [
        "place = 'Japan'\n",
        "outday = '0824'"
      ],
      "execution_count": 3,
      "outputs": []
    },
    {
      "cell_type": "code",
      "metadata": {
        "id": "tn71RYjUF7kK"
      },
      "source": [
        "sourcefname = \"/content/drive/MyDrive/TimeLineData/\"+place+\"_\"+outday+\".csv\""
      ],
      "execution_count": 4,
      "outputs": []
    },
    {
      "cell_type": "code",
      "metadata": {
        "execution": {
          "iopub.status.busy": "2021-05-24T22:03:57.440893Z",
          "iopub.execute_input": "2021-05-24T22:03:57.441266Z",
          "iopub.status.idle": "2021-05-24T22:03:57.808673Z",
          "shell.execute_reply.started": "2021-05-24T22:03:57.441233Z",
          "shell.execute_reply": "2021-05-24T22:03:57.807574Z"
        },
        "trusted": true,
        "id": "xc7NSu2fdL9w"
      },
      "source": [
        "trainfile = pd.read_csv(sourcefname, usecols=[\"date\", \"new_cases\",\"new_deaths\",\"people_fully_vaccinated\"])"
      ],
      "execution_count": 5,
      "outputs": []
    },
    {
      "cell_type": "markdown",
      "metadata": {
        "id": "FBEuwAo6dL9z"
      },
      "source": [
        "**Checking the correlation between current & truth coordinates**"
      ]
    },
    {
      "cell_type": "code",
      "metadata": {
        "execution": {
          "iopub.status.busy": "2021-05-24T22:07:31.123277Z",
          "iopub.execute_input": "2021-05-24T22:07:31.123660Z",
          "iopub.status.idle": "2021-05-24T22:07:31.162045Z",
          "shell.execute_reply.started": "2021-05-24T22:07:31.123620Z",
          "shell.execute_reply": "2021-05-24T22:07:31.160766Z"
        },
        "trusted": true,
        "id": "PFiR94_udL9z",
        "colab": {
          "base_uri": "https://localhost:8080/",
          "height": 142
        },
        "outputId": "b63f2282-8301-4161-d705-26be8eac22d0"
      },
      "source": [
        "trainfile.corr()"
      ],
      "execution_count": 6,
      "outputs": [
        {
          "output_type": "execute_result",
          "data": {
            "text/html": [
              "<div>\n",
              "<style scoped>\n",
              "    .dataframe tbody tr th:only-of-type {\n",
              "        vertical-align: middle;\n",
              "    }\n",
              "\n",
              "    .dataframe tbody tr th {\n",
              "        vertical-align: top;\n",
              "    }\n",
              "\n",
              "    .dataframe thead th {\n",
              "        text-align: right;\n",
              "    }\n",
              "</style>\n",
              "<table border=\"1\" class=\"dataframe\">\n",
              "  <thead>\n",
              "    <tr style=\"text-align: right;\">\n",
              "      <th></th>\n",
              "      <th>new_cases</th>\n",
              "      <th>new_deaths</th>\n",
              "      <th>people_fully_vaccinated</th>\n",
              "    </tr>\n",
              "  </thead>\n",
              "  <tbody>\n",
              "    <tr>\n",
              "      <th>new_cases</th>\n",
              "      <td>1.000000</td>\n",
              "      <td>0.278264</td>\n",
              "      <td>0.586397</td>\n",
              "    </tr>\n",
              "    <tr>\n",
              "      <th>new_deaths</th>\n",
              "      <td>0.278264</td>\n",
              "      <td>1.000000</td>\n",
              "      <td>-0.015883</td>\n",
              "    </tr>\n",
              "    <tr>\n",
              "      <th>people_fully_vaccinated</th>\n",
              "      <td>0.586397</td>\n",
              "      <td>-0.015883</td>\n",
              "      <td>1.000000</td>\n",
              "    </tr>\n",
              "  </tbody>\n",
              "</table>\n",
              "</div>"
            ],
            "text/plain": [
              "                         new_cases  new_deaths  people_fully_vaccinated\n",
              "new_cases                 1.000000    0.278264                 0.586397\n",
              "new_deaths                0.278264    1.000000                -0.015883\n",
              "people_fully_vaccinated   0.586397   -0.015883                 1.000000"
            ]
          },
          "metadata": {},
          "execution_count": 6
        }
      ]
    },
    {
      "cell_type": "code",
      "metadata": {
        "id": "Zj2ewxgepc3B"
      },
      "source": [
        "df_corr = trainfile.corr()"
      ],
      "execution_count": 7,
      "outputs": []
    },
    {
      "cell_type": "code",
      "metadata": {
        "colab": {
          "base_uri": "https://localhost:8080/",
          "height": 542
        },
        "id": "3vK8KsuA1Jpt",
        "outputId": "43891fd2-8bcb-474a-9daa-0dcb466640c8"
      },
      "source": [
        "#heatmap\n",
        "plt.figure(figsize=(10, 8))   # (width, height)\n",
        "plt.title(\"heatmap of correlation coefficient\")\n",
        "sns.heatmap(df_corr, vmin = -1, vmax = 1)"
      ],
      "execution_count": 8,
      "outputs": [
        {
          "output_type": "execute_result",
          "data": {
            "text/plain": [
              "<matplotlib.axes._subplots.AxesSubplot at 0x7fb18a0ee590>"
            ]
          },
          "metadata": {},
          "execution_count": 8
        },
        {
          "output_type": "display_data",
          "data": {
            "image/png": "[encoded data removed]",
            "text/plain": [
              "<Figure size 720x576 with 2 Axes>"
            ]
          },
          "metadata": {
            "needs_background": "light"
          }
        }
      ]
    },
    {
      "cell_type": "code",
      "metadata": {
        "id": "T9myOdxz1Q3m",
        "colab": {
          "base_uri": "https://localhost:8080/",
          "height": 525
        },
        "outputId": "45ed8af5-f6d2-42e7-df06-404bb7fee450"
      },
      "source": [
        "#heatmap\n",
        "plt.figure(figsize=(10, 8))   # (width, height)\n",
        "plt.title(\"heatmap of correlation coefficient\")\n",
        "\n",
        "sns.heatmap(df_corr, annot=True,fmt='.2f',cmap='Blues',square=True, vmin = -1, vmax = 1)\n",
        "fname = place + \"_heatmap_\" + outday + \".jpg\"\n",
        "plt.savefig(fname)"
      ],
      "execution_count": 9,
      "outputs": [
        {
          "output_type": "display_data",
          "data": {
            "image/png": "[encoded data removed]",
            "text/plain": [
              "<Figure size 720x576 with 2 Axes>"
            ]
          },
          "metadata": {
            "needs_background": "light"
          }
        }
      ]
    }
  ]
}